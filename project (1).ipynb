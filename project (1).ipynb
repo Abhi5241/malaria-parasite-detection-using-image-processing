{
 "cells": [
  {
   "cell_type": "code",
   "execution_count": 1,
   "id": "1b90fd39",
   "metadata": {},
   "outputs": [],
   "source": [
    "from tensorflow.keras.layers import Input, Lambda, Dense, Flatten\n",
    "from tensorflow.keras.models import Model\n",
    "from tensorflow.keras.applications.vgg19 import VGG19\n",
    "from tensorflow.keras.applications.vgg16 import preprocess_input\n",
    "from tensorflow.keras.preprocessing import image\n",
    "from tensorflow.keras.preprocessing.image import ImageDataGenerator\n",
    "from tensorflow.keras.models import Sequential\n",
    "import numpy as np\n",
    "from glob import glob\n",
    "import matplotlib.pyplot as plt\n"
   ]
  },
  {
   "cell_type": "code",
   "execution_count": 2,
   "id": "d7180ccb",
   "metadata": {},
   "outputs": [],
   "source": [
    "import tensorflow as tf"
   ]
  },
  {
   "cell_type": "code",
   "execution_count": 3,
   "id": "7e5f5261",
   "metadata": {},
   "outputs": [
    {
     "name": "stdout",
     "output_type": "stream",
     "text": [
      "2.6.2\n"
     ]
    }
   ],
   "source": [
    "print(tf.__version__)"
   ]
  },
  {
   "cell_type": "code",
   "execution_count": 4,
   "id": "aba5ed7f",
   "metadata": {},
   "outputs": [],
   "source": [
    "import ssl\n",
    "ssl._create_default_https_context = ssl._create_unverified_context"
   ]
  },
  {
   "cell_type": "code",
   "execution_count": 5,
   "id": "08afaf08",
   "metadata": {},
   "outputs": [],
   "source": [
    "image_size=[224,224]"
   ]
  },
  {
   "cell_type": "code",
   "execution_count": 6,
   "id": "00a3d806",
   "metadata": {},
   "outputs": [],
   "source": [
    "train_path=\"/Users/chauhanabhishek/Downloads/Dataset/Train\"\n",
    "test_path=\"/Users/chauhanabhishek/Downloads/Dataset/Test\""
   ]
  },
  {
   "cell_type": "code",
   "execution_count": 7,
   "id": "424af8eb",
   "metadata": {},
   "outputs": [],
   "source": [
    "vgg = VGG19(input_shape=image_size + [3], weights='imagenet', include_top=False)"
   ]
  },
  {
   "cell_type": "code",
   "execution_count": 8,
   "id": "dc0de7e1",
   "metadata": {},
   "outputs": [
    {
     "name": "stdout",
     "output_type": "stream",
     "text": [
      "Model: \"vgg19\"\n",
      "_________________________________________________________________\n",
      "Layer (type)                 Output Shape              Param #   \n",
      "=================================================================\n",
      "input_1 (InputLayer)         [(None, 224, 224, 3)]     0         \n",
      "_________________________________________________________________\n",
      "block1_conv1 (Conv2D)        (None, 224, 224, 64)      1792      \n",
      "_________________________________________________________________\n",
      "block1_conv2 (Conv2D)        (None, 224, 224, 64)      36928     \n",
      "_________________________________________________________________\n",
      "block1_pool (MaxPooling2D)   (None, 112, 112, 64)      0         \n",
      "_________________________________________________________________\n",
      "block2_conv1 (Conv2D)        (None, 112, 112, 128)     73856     \n",
      "_________________________________________________________________\n",
      "block2_conv2 (Conv2D)        (None, 112, 112, 128)     147584    \n",
      "_________________________________________________________________\n",
      "block2_pool (MaxPooling2D)   (None, 56, 56, 128)       0         \n",
      "_________________________________________________________________\n",
      "block3_conv1 (Conv2D)        (None, 56, 56, 256)       295168    \n",
      "_________________________________________________________________\n",
      "block3_conv2 (Conv2D)        (None, 56, 56, 256)       590080    \n",
      "_________________________________________________________________\n",
      "block3_conv3 (Conv2D)        (None, 56, 56, 256)       590080    \n",
      "_________________________________________________________________\n",
      "block3_conv4 (Conv2D)        (None, 56, 56, 256)       590080    \n",
      "_________________________________________________________________\n",
      "block3_pool (MaxPooling2D)   (None, 28, 28, 256)       0         \n",
      "_________________________________________________________________\n",
      "block4_conv1 (Conv2D)        (None, 28, 28, 512)       1180160   \n",
      "_________________________________________________________________\n",
      "block4_conv2 (Conv2D)        (None, 28, 28, 512)       2359808   \n",
      "_________________________________________________________________\n",
      "block4_conv3 (Conv2D)        (None, 28, 28, 512)       2359808   \n",
      "_________________________________________________________________\n",
      "block4_conv4 (Conv2D)        (None, 28, 28, 512)       2359808   \n",
      "_________________________________________________________________\n",
      "block4_pool (MaxPooling2D)   (None, 14, 14, 512)       0         \n",
      "_________________________________________________________________\n",
      "block5_conv1 (Conv2D)        (None, 14, 14, 512)       2359808   \n",
      "_________________________________________________________________\n",
      "block5_conv2 (Conv2D)        (None, 14, 14, 512)       2359808   \n",
      "_________________________________________________________________\n",
      "block5_conv3 (Conv2D)        (None, 14, 14, 512)       2359808   \n",
      "_________________________________________________________________\n",
      "block5_conv4 (Conv2D)        (None, 14, 14, 512)       2359808   \n",
      "_________________________________________________________________\n",
      "block5_pool (MaxPooling2D)   (None, 7, 7, 512)         0         \n",
      "=================================================================\n",
      "Total params: 20,024,384\n",
      "Trainable params: 20,024,384\n",
      "Non-trainable params: 0\n",
      "_________________________________________________________________\n"
     ]
    }
   ],
   "source": [
    "vgg.summary()"
   ]
  },
  {
   "cell_type": "code",
   "execution_count": 9,
   "id": "e67ea168",
   "metadata": {},
   "outputs": [],
   "source": [
    "for layer in vgg.layers:\n",
    "    layer.trainable =False"
   ]
  },
  {
   "cell_type": "code",
   "execution_count": 10,
   "id": "3195c260",
   "metadata": {},
   "outputs": [],
   "source": [
    "folders= glob(\"/Users/chauhanabhishek/Downloads/Dataset/Train/*\")"
   ]
  },
  {
   "cell_type": "code",
   "execution_count": 11,
   "id": "b41817bc",
   "metadata": {},
   "outputs": [
    {
     "data": {
      "text/plain": [
       "['/Users/chauhanabhishek/Downloads/Dataset/Train/Parasite',\n",
       " '/Users/chauhanabhishek/Downloads/Dataset/Train/Uninfected']"
      ]
     },
     "execution_count": 11,
     "metadata": {},
     "output_type": "execute_result"
    }
   ],
   "source": [
    "folders"
   ]
  },
  {
   "cell_type": "code",
   "execution_count": 12,
   "id": "292160ac",
   "metadata": {},
   "outputs": [],
   "source": [
    "x=Flatten()(vgg.output)"
   ]
  },
  {
   "cell_type": "code",
   "execution_count": 13,
   "id": "f7c953c8",
   "metadata": {},
   "outputs": [],
   "source": [
    "prediction=Dense(len(folders),activation=\"softmax\")(x)\n",
    "model=Model(inputs=vgg.input,outputs=prediction)"
   ]
  },
  {
   "cell_type": "code",
   "execution_count": 14,
   "id": "e2b95980",
   "metadata": {},
   "outputs": [
    {
     "name": "stdout",
     "output_type": "stream",
     "text": [
      "Model: \"model\"\n",
      "_________________________________________________________________\n",
      "Layer (type)                 Output Shape              Param #   \n",
      "=================================================================\n",
      "input_1 (InputLayer)         [(None, 224, 224, 3)]     0         \n",
      "_________________________________________________________________\n",
      "block1_conv1 (Conv2D)        (None, 224, 224, 64)      1792      \n",
      "_________________________________________________________________\n",
      "block1_conv2 (Conv2D)        (None, 224, 224, 64)      36928     \n",
      "_________________________________________________________________\n",
      "block1_pool (MaxPooling2D)   (None, 112, 112, 64)      0         \n",
      "_________________________________________________________________\n",
      "block2_conv1 (Conv2D)        (None, 112, 112, 128)     73856     \n",
      "_________________________________________________________________\n",
      "block2_conv2 (Conv2D)        (None, 112, 112, 128)     147584    \n",
      "_________________________________________________________________\n",
      "block2_pool (MaxPooling2D)   (None, 56, 56, 128)       0         \n",
      "_________________________________________________________________\n",
      "block3_conv1 (Conv2D)        (None, 56, 56, 256)       295168    \n",
      "_________________________________________________________________\n",
      "block3_conv2 (Conv2D)        (None, 56, 56, 256)       590080    \n",
      "_________________________________________________________________\n",
      "block3_conv3 (Conv2D)        (None, 56, 56, 256)       590080    \n",
      "_________________________________________________________________\n",
      "block3_conv4 (Conv2D)        (None, 56, 56, 256)       590080    \n",
      "_________________________________________________________________\n",
      "block3_pool (MaxPooling2D)   (None, 28, 28, 256)       0         \n",
      "_________________________________________________________________\n",
      "block4_conv1 (Conv2D)        (None, 28, 28, 512)       1180160   \n",
      "_________________________________________________________________\n",
      "block4_conv2 (Conv2D)        (None, 28, 28, 512)       2359808   \n",
      "_________________________________________________________________\n",
      "block4_conv3 (Conv2D)        (None, 28, 28, 512)       2359808   \n",
      "_________________________________________________________________\n",
      "block4_conv4 (Conv2D)        (None, 28, 28, 512)       2359808   \n",
      "_________________________________________________________________\n",
      "block4_pool (MaxPooling2D)   (None, 14, 14, 512)       0         \n",
      "_________________________________________________________________\n",
      "block5_conv1 (Conv2D)        (None, 14, 14, 512)       2359808   \n",
      "_________________________________________________________________\n",
      "block5_conv2 (Conv2D)        (None, 14, 14, 512)       2359808   \n",
      "_________________________________________________________________\n",
      "block5_conv3 (Conv2D)        (None, 14, 14, 512)       2359808   \n",
      "_________________________________________________________________\n",
      "block5_conv4 (Conv2D)        (None, 14, 14, 512)       2359808   \n",
      "_________________________________________________________________\n",
      "block5_pool (MaxPooling2D)   (None, 7, 7, 512)         0         \n",
      "_________________________________________________________________\n",
      "flatten (Flatten)            (None, 25088)             0         \n",
      "_________________________________________________________________\n",
      "dense (Dense)                (None, 2)                 50178     \n",
      "=================================================================\n",
      "Total params: 20,074,562\n",
      "Trainable params: 50,178\n",
      "Non-trainable params: 20,024,384\n",
      "_________________________________________________________________\n"
     ]
    }
   ],
   "source": [
    "model.summary()"
   ]
  },
  {
   "cell_type": "code",
   "execution_count": 15,
   "id": "0acb61b3",
   "metadata": {},
   "outputs": [],
   "source": [
    "from tensorflow.keras.layers import MaxPooling2D,Conv2D\n"
   ]
  },
  {
   "cell_type": "code",
   "execution_count": 16,
   "id": "06a8f8da",
   "metadata": {},
   "outputs": [
    {
     "name": "stdout",
     "output_type": "stream",
     "text": [
      "Model: \"sequential\"\n",
      "_________________________________________________________________\n",
      "Layer (type)                 Output Shape              Param #   \n",
      "=================================================================\n",
      "conv2d (Conv2D)              (None, 224, 224, 16)      208       \n",
      "_________________________________________________________________\n",
      "max_pooling2d (MaxPooling2D) (None, 112, 112, 16)      0         \n",
      "_________________________________________________________________\n",
      "conv2d_1 (Conv2D)            (None, 112, 112, 32)      2080      \n",
      "_________________________________________________________________\n",
      "max_pooling2d_1 (MaxPooling2 (None, 56, 56, 32)        0         \n",
      "_________________________________________________________________\n",
      "conv2d_2 (Conv2D)            (None, 56, 56, 64)        8256      \n",
      "_________________________________________________________________\n",
      "max_pooling2d_2 (MaxPooling2 (None, 28, 28, 64)        0         \n",
      "_________________________________________________________________\n",
      "flatten_1 (Flatten)          (None, 50176)             0         \n",
      "_________________________________________________________________\n",
      "dense_1 (Dense)              (None, 500)               25088500  \n",
      "_________________________________________________________________\n",
      "dense_2 (Dense)              (None, 2)                 1002      \n",
      "=================================================================\n",
      "Total params: 25,100,046\n",
      "Trainable params: 25,100,046\n",
      "Non-trainable params: 0\n",
      "_________________________________________________________________\n"
     ]
    }
   ],
   "source": [
    "model=Sequential()\n",
    "model.add(Conv2D(filters=16,kernel_size=2,padding=\"same\",activation=\"relu\",input_shape=(224,224,3)))\n",
    "model.add(MaxPooling2D(pool_size=2))\n",
    "model.add(Conv2D(filters=32,kernel_size=2,padding=\"same\",activation =\"relu\"))\n",
    "model.add(MaxPooling2D(pool_size=2))\n",
    "model.add(Conv2D(filters=64,kernel_size=2,padding=\"same\",activation=\"relu\"))\n",
    "model.add(MaxPooling2D(pool_size=2))\n",
    "model.add(Flatten())\n",
    "model.add(Dense(500,activation=\"relu\"))\n",
    "model.add(Dense(2,activation=\"softmax\"))\n",
    "model.summary()"
   ]
  },
  {
   "cell_type": "code",
   "execution_count": 17,
   "id": "4ee2ee3d",
   "metadata": {},
   "outputs": [],
   "source": [
    "model.compile(\n",
    "  loss='categorical_crossentropy',\n",
    "  optimizer='adam',\n",
    "  metrics=['accuracy']\n",
    ")"
   ]
  },
  {
   "cell_type": "code",
   "execution_count": 18,
   "id": "909a709b",
   "metadata": {},
   "outputs": [],
   "source": [
    "\n",
    "\n",
    "train_datagen = ImageDataGenerator(rescale = 1./255,\n",
    "                                   shear_range = 0.2,\n",
    "                                   zoom_range = 0.2,\n",
    "                                   horizontal_flip = True)\n",
    "\n",
    "test_datagen = ImageDataGenerator(rescale = 1./255)"
   ]
  },
  {
   "cell_type": "code",
   "execution_count": 19,
   "id": "81fb32f0",
   "metadata": {},
   "outputs": [
    {
     "name": "stdout",
     "output_type": "stream",
     "text": [
      "Found 416 images belonging to 2 classes.\n"
     ]
    }
   ],
   "source": [
    "training_set = train_datagen.flow_from_directory('/Users/chauhanabhishek/Downloads/Dataset/Train',\n",
    "                                                 target_size = (224, 224),\n",
    "                                                 batch_size = 32,\n",
    "                                                 class_mode = 'categorical')"
   ]
  },
  {
   "cell_type": "code",
   "execution_count": 20,
   "id": "8bcf97ec",
   "metadata": {},
   "outputs": [
    {
     "data": {
      "text/plain": [
       "<keras.preprocessing.image.DirectoryIterator at 0x151902ac0>"
      ]
     },
     "execution_count": 20,
     "metadata": {},
     "output_type": "execute_result"
    }
   ],
   "source": [
    "training_set"
   ]
  },
  {
   "cell_type": "code",
   "execution_count": 21,
   "id": "2d03f1e2",
   "metadata": {},
   "outputs": [
    {
     "name": "stdout",
     "output_type": "stream",
     "text": [
      "Found 134 images belonging to 2 classes.\n"
     ]
    }
   ],
   "source": [
    "test_set = test_datagen.flow_from_directory('/Users/chauhanabhishek/Downloads/Dataset/Test',\n",
    "                                            target_size = (224, 224),\n",
    "                                            batch_size = 32,\n",
    "                                            class_mode = 'categorical')\n",
    "\n"
   ]
  },
  {
   "cell_type": "code",
   "execution_count": 22,
   "id": "a9aa5053",
   "metadata": {},
   "outputs": [
    {
     "name": "stderr",
     "output_type": "stream",
     "text": [
      "/Library/Frameworks/Python.framework/Versions/3.9/lib/python3.9/site-packages/keras/engine/training.py:1972: UserWarning: `Model.fit_generator` is deprecated and will be removed in a future version. Please use `Model.fit`, which supports generators.\n",
      "  warnings.warn('`Model.fit_generator` is deprecated and '\n",
      "2021-11-26 11:31:43.695531: I tensorflow/compiler/mlir/mlir_graph_optimization_pass.cc:185] None of the MLIR Optimization Passes are enabled (registered 2)\n"
     ]
    },
    {
     "name": "stdout",
     "output_type": "stream",
     "text": [
      "Epoch 1/50\n",
      "13/13 [==============================] - 38s 3s/step - loss: 1.6496 - accuracy: 0.5216 - val_loss: 0.6521 - val_accuracy: 0.6791\n",
      "Epoch 2/50\n",
      "13/13 [==============================] - 35s 3s/step - loss: 0.6638 - accuracy: 0.5962 - val_loss: 0.7381 - val_accuracy: 0.4328\n",
      "Epoch 3/50\n",
      "13/13 [==============================] - 31s 2s/step - loss: 0.5439 - accuracy: 0.7188 - val_loss: 1.1412 - val_accuracy: 0.3507\n",
      "Epoch 4/50\n",
      "13/13 [==============================] - 22s 2s/step - loss: 0.5318 - accuracy: 0.7043 - val_loss: 0.7946 - val_accuracy: 0.3955\n",
      "Epoch 5/50\n",
      "13/13 [==============================] - 21s 2s/step - loss: 0.4772 - accuracy: 0.7524 - val_loss: 0.8482 - val_accuracy: 0.3731\n",
      "Epoch 6/50\n",
      "13/13 [==============================] - 22s 2s/step - loss: 0.4399 - accuracy: 0.7596 - val_loss: 0.8720 - val_accuracy: 0.3731\n",
      "Epoch 7/50\n",
      "13/13 [==============================] - 22s 2s/step - loss: 0.4176 - accuracy: 0.7812 - val_loss: 0.9034 - val_accuracy: 0.3731\n",
      "Epoch 8/50\n",
      "13/13 [==============================] - 28s 2s/step - loss: 0.4510 - accuracy: 0.8005 - val_loss: 0.6922 - val_accuracy: 0.5000\n",
      "Epoch 9/50\n",
      "13/13 [==============================] - 24s 2s/step - loss: 0.3901 - accuracy: 0.8317 - val_loss: 0.9563 - val_accuracy: 0.4328\n",
      "Epoch 10/50\n",
      "13/13 [==============================] - 23s 2s/step - loss: 0.3468 - accuracy: 0.8365 - val_loss: 0.8715 - val_accuracy: 0.4627\n",
      "Epoch 11/50\n",
      "13/13 [==============================] - 24s 2s/step - loss: 0.3540 - accuracy: 0.8438 - val_loss: 0.7152 - val_accuracy: 0.5373\n",
      "Epoch 12/50\n",
      "13/13 [==============================] - 22s 2s/step - loss: 0.3319 - accuracy: 0.8534 - val_loss: 0.8619 - val_accuracy: 0.5522\n",
      "Epoch 13/50\n",
      "13/13 [==============================] - 22s 2s/step - loss: 0.3166 - accuracy: 0.8846 - val_loss: 0.6692 - val_accuracy: 0.6269\n",
      "Epoch 14/50\n",
      "13/13 [==============================] - 23s 2s/step - loss: 0.3098 - accuracy: 0.8774 - val_loss: 0.5340 - val_accuracy: 0.6716\n",
      "Epoch 15/50\n",
      "13/13 [==============================] - 26s 2s/step - loss: 0.2926 - accuracy: 0.8870 - val_loss: 0.7334 - val_accuracy: 0.5746\n",
      "Epoch 16/50\n",
      "13/13 [==============================] - 25s 2s/step - loss: 0.2710 - accuracy: 0.9111 - val_loss: 0.7070 - val_accuracy: 0.6567\n",
      "Epoch 17/50\n",
      "13/13 [==============================] - 28s 2s/step - loss: 0.2443 - accuracy: 0.9014 - val_loss: 0.6281 - val_accuracy: 0.6940\n",
      "Epoch 18/50\n",
      "13/13 [==============================] - 24s 2s/step - loss: 0.2248 - accuracy: 0.9159 - val_loss: 0.6603 - val_accuracy: 0.6791\n",
      "Epoch 19/50\n",
      "13/13 [==============================] - 26s 2s/step - loss: 0.1905 - accuracy: 0.9447 - val_loss: 0.6552 - val_accuracy: 0.6866\n",
      "Epoch 20/50\n",
      "13/13 [==============================] - 25s 2s/step - loss: 0.1884 - accuracy: 0.9303 - val_loss: 0.3689 - val_accuracy: 0.8134\n",
      "Epoch 21/50\n",
      "13/13 [==============================] - 25s 2s/step - loss: 0.1908 - accuracy: 0.9375 - val_loss: 0.4174 - val_accuracy: 0.7910\n",
      "Epoch 22/50\n",
      "13/13 [==============================] - 25s 2s/step - loss: 0.1925 - accuracy: 0.9423 - val_loss: 0.4917 - val_accuracy: 0.7836\n",
      "Epoch 23/50\n",
      "13/13 [==============================] - 25s 2s/step - loss: 0.1722 - accuracy: 0.9375 - val_loss: 0.4513 - val_accuracy: 0.7910\n",
      "Epoch 24/50\n",
      "13/13 [==============================] - 24s 2s/step - loss: 0.1475 - accuracy: 0.9519 - val_loss: 0.2896 - val_accuracy: 0.8657\n",
      "Epoch 25/50\n",
      "13/13 [==============================] - 23s 2s/step - loss: 0.1222 - accuracy: 0.9639 - val_loss: 0.4906 - val_accuracy: 0.7985\n",
      "Epoch 26/50\n",
      "13/13 [==============================] - 27s 2s/step - loss: 0.1386 - accuracy: 0.9543 - val_loss: 0.3129 - val_accuracy: 0.8507\n",
      "Epoch 27/50\n",
      "13/13 [==============================] - 24s 2s/step - loss: 0.1204 - accuracy: 0.9615 - val_loss: 0.2417 - val_accuracy: 0.9104\n",
      "Epoch 28/50\n",
      "13/13 [==============================] - 22s 2s/step - loss: 0.1222 - accuracy: 0.9663 - val_loss: 0.2860 - val_accuracy: 0.8507\n",
      "Epoch 29/50\n",
      "13/13 [==============================] - 23s 2s/step - loss: 0.1067 - accuracy: 0.9663 - val_loss: 0.4109 - val_accuracy: 0.8284\n",
      "Epoch 30/50\n",
      "13/13 [==============================] - 22s 2s/step - loss: 0.0957 - accuracy: 0.9712 - val_loss: 0.2907 - val_accuracy: 0.8731\n",
      "Epoch 31/50\n",
      "13/13 [==============================] - 24s 2s/step - loss: 0.0903 - accuracy: 0.9784 - val_loss: 0.5080 - val_accuracy: 0.8060\n",
      "Epoch 32/50\n",
      "13/13 [==============================] - 25s 2s/step - loss: 0.1017 - accuracy: 0.9688 - val_loss: 0.2513 - val_accuracy: 0.8806\n",
      "Epoch 33/50\n",
      "13/13 [==============================] - 22s 2s/step - loss: 0.1299 - accuracy: 0.9471 - val_loss: 0.3315 - val_accuracy: 0.8507\n",
      "Epoch 34/50\n",
      "13/13 [==============================] - 22s 2s/step - loss: 0.1084 - accuracy: 0.9663 - val_loss: 0.3105 - val_accuracy: 0.8433\n",
      "Epoch 35/50\n",
      "13/13 [==============================] - 22s 2s/step - loss: 0.0776 - accuracy: 0.9784 - val_loss: 0.3973 - val_accuracy: 0.8284\n",
      "Epoch 36/50\n",
      "13/13 [==============================] - 24s 2s/step - loss: 0.0691 - accuracy: 0.9760 - val_loss: 0.2803 - val_accuracy: 0.8507\n",
      "Epoch 37/50\n",
      "13/13 [==============================] - 23s 2s/step - loss: 0.0831 - accuracy: 0.9808 - val_loss: 0.3702 - val_accuracy: 0.8433\n",
      "Epoch 38/50\n",
      "13/13 [==============================] - 24s 2s/step - loss: 0.0974 - accuracy: 0.9663 - val_loss: 0.1761 - val_accuracy: 0.9328\n",
      "Epoch 39/50\n",
      "13/13 [==============================] - 23s 2s/step - loss: 0.0871 - accuracy: 0.9784 - val_loss: 0.7312 - val_accuracy: 0.7910\n",
      "Epoch 40/50\n",
      "13/13 [==============================] - 23s 2s/step - loss: 0.1138 - accuracy: 0.9688 - val_loss: 0.1724 - val_accuracy: 0.9104\n",
      "Epoch 41/50\n",
      "13/13 [==============================] - 22s 2s/step - loss: 0.0615 - accuracy: 0.9784 - val_loss: 0.3742 - val_accuracy: 0.8433\n",
      "Epoch 42/50\n",
      "13/13 [==============================] - 23s 2s/step - loss: 0.1130 - accuracy: 0.9615 - val_loss: 0.2773 - val_accuracy: 0.8955\n",
      "Epoch 43/50\n",
      "13/13 [==============================] - 25s 2s/step - loss: 0.0919 - accuracy: 0.9736 - val_loss: 0.2007 - val_accuracy: 0.9030\n",
      "Epoch 44/50\n",
      "13/13 [==============================] - 22s 2s/step - loss: 0.0925 - accuracy: 0.9808 - val_loss: 0.3840 - val_accuracy: 0.8657\n",
      "Epoch 45/50\n",
      "13/13 [==============================] - 23s 2s/step - loss: 0.1027 - accuracy: 0.9688 - val_loss: 0.3529 - val_accuracy: 0.8657\n",
      "Epoch 46/50\n",
      "13/13 [==============================] - 24s 2s/step - loss: 0.0706 - accuracy: 0.9856 - val_loss: 0.3760 - val_accuracy: 0.8657\n",
      "Epoch 47/50\n",
      "13/13 [==============================] - 23s 2s/step - loss: 0.0842 - accuracy: 0.9760 - val_loss: 0.2251 - val_accuracy: 0.9104\n",
      "Epoch 48/50\n",
      "13/13 [==============================] - 23s 2s/step - loss: 0.0523 - accuracy: 0.9880 - val_loss: 0.1930 - val_accuracy: 0.9254\n",
      "Epoch 49/50\n",
      "13/13 [==============================] - 24s 2s/step - loss: 0.0482 - accuracy: 0.9832 - val_loss: 0.4183 - val_accuracy: 0.8582\n",
      "Epoch 50/50\n",
      "13/13 [==============================] - 23s 2s/step - loss: 0.0413 - accuracy: 0.9880 - val_loss: 0.1170 - val_accuracy: 0.9478\n"
     ]
    }
   ],
   "source": [
    "r = model.fit_generator(\n",
    "  training_set,\n",
    "  validation_data=test_set,\n",
    "  epochs=50,\n",
    "  steps_per_epoch=len(training_set),\n",
    "  validation_steps=len(test_set)\n",
    ")"
   ]
  },
  {
   "cell_type": "code",
   "execution_count": 23,
   "id": "e177113f",
   "metadata": {},
   "outputs": [
    {
     "data": {
      "image/png": "[encoded data removed]",
      "text/plain": [
       "<Figure size 432x288 with 1 Axes>"
      ]
     },
     "metadata": {
      "needs_background": "light"
     },
     "output_type": "display_data"
    },
    {
     "data": {
      "text/plain": [
       "<Figure size 432x288 with 0 Axes>"
      ]
     },
     "metadata": {},
     "output_type": "display_data"
    }
   ],
   "source": [
    "plt.plot(r.history['loss'], label='train loss')\n",
    "plt.plot(r.history['val_loss'], label='val loss')\n",
    "plt.legend()\n",
    "plt.show()\n",
    "plt.savefig('LossVal_loss')\n"
   ]
  },
  {
   "cell_type": "code",
   "execution_count": 24,
   "id": "f6417612",
   "metadata": {},
   "outputs": [
    {
     "data": {
      "image/png": "[encoded data removed]",
      "text/plain": [
       "<Figure size 432x288 with 1 Axes>"
      ]
     },
     "metadata": {
      "needs_background": "light"
     },
     "output_type": "display_data"
    },
    {
     "data": {
      "text/plain": [
       "<Figure size 432x288 with 0 Axes>"
      ]
     },
     "metadata": {},
     "output_type": "display_data"
    }
   ],
   "source": [
    "plt.plot(r.history['accuracy'], label='train acc')\n",
    "plt.plot(r.history['val_accuracy'], label='val acc')\n",
    "plt.legend()\n",
    "plt.show()\n",
    "plt.savefig('AccVal_acc')\n"
   ]
  },
  {
   "cell_type": "code",
   "execution_count": 25,
   "id": "e810b0c5",
   "metadata": {},
   "outputs": [],
   "source": [
    "\n",
    "\n",
    "from keras.models import load_model\n",
    "\n",
    "model.save('model_vgg19.h5')\n"
   ]
  },
  {
   "cell_type": "code",
   "execution_count": 26,
   "id": "4ad3a289",
   "metadata": {},
   "outputs": [],
   "source": [
    "y_pred=model.predict(test_set)"
   ]
  },
  {
   "cell_type": "code",
   "execution_count": 27,
   "id": "53b36741",
   "metadata": {},
   "outputs": [
    {
     "data": {
      "text/plain": [
       "array([[1.03637256e-01, 8.96362722e-01],\n",
       "       [4.62215841e-01, 5.37784159e-01],\n",
       "       [9.78439271e-01, 2.15607844e-02],\n",
       "       [1.85589120e-02, 9.81441140e-01],\n",
       "       [1.00000000e+00, 1.34753968e-08],\n",
       "       [1.00000000e+00, 2.12051266e-18],\n",
       "       [9.35247447e-03, 9.90647495e-01],\n",
       "       [3.84980679e-01, 6.15019321e-01],\n",
       "       [2.66296435e-02, 9.73370373e-01],\n",
       "       [9.99938488e-01, 6.15068493e-05],\n",
       "       [5.39812334e-02, 9.46018815e-01],\n",
       "       [9.99931574e-01, 6.84565457e-05],\n",
       "       [1.69738933e-01, 8.30261052e-01],\n",
       "       [9.99997616e-01, 2.39395786e-06],\n",
       "       [4.41757916e-03, 9.95582402e-01],\n",
       "       [9.99829412e-01, 1.70612300e-04],\n",
       "       [9.99993443e-01, 6.54288942e-06],\n",
       "       [9.99982476e-01, 1.75568239e-05],\n",
       "       [3.12797390e-02, 9.68720257e-01],\n",
       "       [9.24939156e-01, 7.50608444e-02],\n",
       "       [9.99999881e-01, 8.28898052e-08],\n",
       "       [9.87374902e-01, 1.26250740e-02],\n",
       "       [3.00584380e-02, 9.69941616e-01],\n",
       "       [9.99779761e-01, 2.20293397e-04],\n",
       "       [1.00000000e+00, 1.81746222e-18],\n",
       "       [9.99551237e-01, 4.48736333e-04],\n",
       "       [9.99982834e-01, 1.71361153e-05],\n",
       "       [9.99923468e-01, 7.64864017e-05],\n",
       "       [9.99911785e-01, 8.82595705e-05],\n",
       "       [9.99992609e-01, 7.35265803e-06],\n",
       "       [2.40229685e-02, 9.75977004e-01],\n",
       "       [9.15165152e-03, 9.90848303e-01],\n",
       "       [9.99842644e-01, 1.57384944e-04],\n",
       "       [1.38316706e-01, 8.61683249e-01],\n",
       "       [9.99998808e-01, 1.20689822e-06],\n",
       "       [9.94087815e-01, 5.91217866e-03],\n",
       "       [2.76244342e-01, 7.23755717e-01],\n",
       "       [9.98640954e-01, 1.35907589e-03],\n",
       "       [4.10904199e-01, 5.89095771e-01],\n",
       "       [9.99990225e-01, 9.76057527e-06],\n",
       "       [9.99999881e-01, 1.14563683e-07],\n",
       "       [8.66211057e-01, 1.33788899e-01],\n",
       "       [5.76151572e-02, 9.42384899e-01],\n",
       "       [9.99981999e-01, 1.79661547e-05],\n",
       "       [9.99982476e-01, 1.74889774e-05],\n",
       "       [7.22698867e-01, 2.77301133e-01],\n",
       "       [1.00000000e+00, 6.78617607e-09],\n",
       "       [1.90358907e-02, 9.80964124e-01],\n",
       "       [9.98244047e-01, 1.75597297e-03],\n",
       "       [6.53511211e-02, 9.34648871e-01],\n",
       "       [1.46515612e-02, 9.85348403e-01],\n",
       "       [3.85683477e-02, 9.61431623e-01],\n",
       "       [9.57851768e-01, 4.21482101e-02],\n",
       "       [3.36471535e-02, 9.66352880e-01],\n",
       "       [9.99986529e-01, 1.34926731e-05],\n",
       "       [9.99990344e-01, 9.71103327e-06],\n",
       "       [9.99947309e-01, 5.26294316e-05],\n",
       "       [1.00000000e+00, 1.27057126e-17],\n",
       "       [9.99834299e-01, 1.65731937e-04],\n",
       "       [9.99864936e-01, 1.35063194e-04],\n",
       "       [2.54794303e-03, 9.97452080e-01],\n",
       "       [9.99854803e-01, 1.45141821e-04],\n",
       "       [9.99824822e-01, 1.75182926e-04],\n",
       "       [1.00000000e+00, 7.28209770e-10],\n",
       "       [9.99991775e-01, 8.28404518e-06],\n",
       "       [9.99889255e-01, 1.10697278e-04],\n",
       "       [9.99992728e-01, 7.32748686e-06],\n",
       "       [1.11198686e-01, 8.88801277e-01],\n",
       "       [1.00000000e+00, 5.49009572e-15],\n",
       "       [9.99549925e-01, 4.50034917e-04],\n",
       "       [1.00000000e+00, 2.65302641e-10],\n",
       "       [9.99982119e-01, 1.78915561e-05],\n",
       "       [7.62116373e-01, 2.37883627e-01],\n",
       "       [9.99802291e-01, 1.97771573e-04],\n",
       "       [1.84056479e-02, 9.81594324e-01],\n",
       "       [7.45358989e-02, 9.25464034e-01],\n",
       "       [9.00060415e-01, 9.99396369e-02],\n",
       "       [9.99993324e-01, 6.66647793e-06],\n",
       "       [9.99997854e-01, 2.19880667e-06],\n",
       "       [9.99999881e-01, 6.35760031e-08],\n",
       "       [9.98904347e-01, 1.09563512e-03],\n",
       "       [1.00000000e+00, 8.95352903e-10],\n",
       "       [3.09937567e-01, 6.90062404e-01],\n",
       "       [1.00000000e+00, 2.19796625e-08],\n",
       "       [3.38889845e-02, 9.66111064e-01],\n",
       "       [9.18833911e-01, 8.11661109e-02],\n",
       "       [9.99998093e-01, 1.86387308e-06],\n",
       "       [9.98746514e-01, 1.25349441e-03],\n",
       "       [2.14718208e-01, 7.85281837e-01],\n",
       "       [7.28689909e-01, 2.71310180e-01],\n",
       "       [1.07779261e-02, 9.89222050e-01],\n",
       "       [5.47889993e-03, 9.94521022e-01],\n",
       "       [1.00000000e+00, 5.84217960e-12],\n",
       "       [1.84091292e-02, 9.81590867e-01],\n",
       "       [7.76809007e-02, 9.22319055e-01],\n",
       "       [9.99649286e-01, 3.50734073e-04],\n",
       "       [1.71026960e-01, 8.28973055e-01],\n",
       "       [9.96082246e-01, 3.91780771e-03],\n",
       "       [3.76804732e-02, 9.62319553e-01],\n",
       "       [1.23390630e-01, 8.76609325e-01],\n",
       "       [1.00000000e+00, 1.28706884e-18],\n",
       "       [9.80505407e-01, 1.94945689e-02],\n",
       "       [9.98379588e-01, 1.62041176e-03],\n",
       "       [9.99973893e-01, 2.61420100e-05],\n",
       "       [1.06254080e-02, 9.89374518e-01],\n",
       "       [3.70008945e-02, 9.62999105e-01],\n",
       "       [9.99700546e-01, 2.99445004e-04],\n",
       "       [9.99911666e-01, 8.82832173e-05],\n",
       "       [9.99999881e-01, 6.76486849e-08],\n",
       "       [1.00000000e+00, 2.05677378e-10],\n",
       "       [9.99902248e-01, 9.77401069e-05],\n",
       "       [5.74630976e-01, 4.25368994e-01],\n",
       "       [9.99999881e-01, 1.38739253e-07],\n",
       "       [9.73547697e-01, 2.64522508e-02],\n",
       "       [9.99605238e-01, 3.94755451e-04],\n",
       "       [2.13459674e-02, 9.78653967e-01],\n",
       "       [1.35896578e-02, 9.86410320e-01],\n",
       "       [9.98613119e-01, 1.38685748e-03],\n",
       "       [7.29013383e-01, 2.70986706e-01],\n",
       "       [9.99998689e-01, 1.25573695e-06],\n",
       "       [3.35055254e-02, 9.66494501e-01],\n",
       "       [7.35503137e-02, 9.26449656e-01],\n",
       "       [2.91082449e-03, 9.97089207e-01],\n",
       "       [1.58363432e-01, 8.41636598e-01],\n",
       "       [9.09244418e-01, 9.07555521e-02],\n",
       "       [9.99820054e-01, 1.79965020e-04],\n",
       "       [1.22984201e-01, 8.77015829e-01],\n",
       "       [7.27941692e-01, 2.72058308e-01],\n",
       "       [1.00000000e+00, 1.00821778e-08],\n",
       "       [8.14061463e-02, 9.18593824e-01],\n",
       "       [9.99995112e-01, 4.84808334e-06],\n",
       "       [9.28610981e-01, 7.13890046e-02],\n",
       "       [6.89368546e-01, 3.10631484e-01],\n",
       "       [9.99998689e-01, 1.25228678e-06]], dtype=float32)"
      ]
     },
     "execution_count": 27,
     "metadata": {},
     "output_type": "execute_result"
    }
   ],
   "source": [
    "y_pred"
   ]
  },
  {
   "cell_type": "code",
   "execution_count": 28,
   "id": "9f826f1d",
   "metadata": {},
   "outputs": [],
   "source": [
    "import numpy as np\n",
    "y_pred=np.argmax(y_pred,axis=1)"
   ]
  },
  {
   "cell_type": "code",
   "execution_count": 29,
   "id": "241d83c1",
   "metadata": {},
   "outputs": [
    {
     "data": {
      "text/plain": [
       "array([1, 1, 0, 1, 0, 0, 1, 1, 1, 0, 1, 0, 1, 0, 1, 0, 0, 0, 1, 0, 0, 0,\n",
       "       1, 0, 0, 0, 0, 0, 0, 0, 1, 1, 0, 1, 0, 0, 1, 0, 1, 0, 0, 0, 1, 0,\n",
       "       0, 0, 0, 1, 0, 1, 1, 1, 0, 1, 0, 0, 0, 0, 0, 0, 1, 0, 0, 0, 0, 0,\n",
       "       0, 1, 0, 0, 0, 0, 0, 0, 1, 1, 0, 0, 0, 0, 0, 0, 1, 0, 1, 0, 0, 0,\n",
       "       1, 0, 1, 1, 0, 1, 1, 0, 1, 0, 1, 1, 0, 0, 0, 0, 1, 1, 0, 0, 0, 0,\n",
       "       0, 0, 0, 0, 0, 1, 1, 0, 0, 0, 1, 1, 1, 1, 0, 0, 1, 0, 0, 1, 0, 0,\n",
       "       0, 0])"
      ]
     },
     "execution_count": 29,
     "metadata": {},
     "output_type": "execute_result"
    }
   ],
   "source": [
    "y_pred"
   ]
  },
  {
   "cell_type": "code",
   "execution_count": 30,
   "id": "08b192ae",
   "metadata": {},
   "outputs": [],
   "source": [
    "from tensorflow.keras.models import load_model\n",
    "from tensorflow.keras.preprocessing import image\n",
    "\n",
    "model=load_model('model_vgg19.h5')"
   ]
  },
  {
   "cell_type": "code",
   "execution_count": 31,
   "id": "e1e56b49",
   "metadata": {},
   "outputs": [],
   "source": [
    "img=image.load_img(\"/Users/chauhanabhishek/Downloads/Dataset/Test/Uninfected/2.png\",target_size=(224,224))"
   ]
  },
  {
   "cell_type": "code",
   "execution_count": 42,
   "id": "fb7508a7",
   "metadata": {},
   "outputs": [
    {
     "data": {
      "text/plain": [
       "array([[[0., 0., 0.],\n",
       "        [0., 0., 0.],\n",
       "        [0., 0., 0.],\n",
       "        ...,\n",
       "        [0., 0., 0.],\n",
       "        [0., 0., 0.],\n",
       "        [0., 0., 0.]],\n",
       "\n",
       "       [[0., 0., 0.],\n",
       "        [0., 0., 0.],\n",
       "        [0., 0., 0.],\n",
       "        ...,\n",
       "        [0., 0., 0.],\n",
       "        [0., 0., 0.],\n",
       "        [0., 0., 0.]],\n",
       "\n",
       "       [[0., 0., 0.],\n",
       "        [0., 0., 0.],\n",
       "        [0., 0., 0.],\n",
       "        ...,\n",
       "        [0., 0., 0.],\n",
       "        [0., 0., 0.],\n",
       "        [0., 0., 0.]],\n",
       "\n",
       "       ...,\n",
       "\n",
       "       [[0., 0., 0.],\n",
       "        [0., 0., 0.],\n",
       "        [0., 0., 0.],\n",
       "        ...,\n",
       "        [0., 0., 0.],\n",
       "        [0., 0., 0.],\n",
       "        [0., 0., 0.]],\n",
       "\n",
       "       [[0., 0., 0.],\n",
       "        [0., 0., 0.],\n",
       "        [0., 0., 0.],\n",
       "        ...,\n",
       "        [0., 0., 0.],\n",
       "        [0., 0., 0.],\n",
       "        [0., 0., 0.]],\n",
       "\n",
       "       [[0., 0., 0.],\n",
       "        [0., 0., 0.],\n",
       "        [0., 0., 0.],\n",
       "        ...,\n",
       "        [0., 0., 0.],\n",
       "        [0., 0., 0.],\n",
       "        [0., 0., 0.]]], dtype=float32)"
      ]
     },
     "execution_count": 42,
     "metadata": {},
     "output_type": "execute_result"
    }
   ],
   "source": [
    "x=image.img_to_array(img)\n",
    "x"
   ]
  },
  {
   "cell_type": "code",
   "execution_count": 33,
   "id": "3c3e54fa",
   "metadata": {},
   "outputs": [
    {
     "data": {
      "text/plain": [
       "(224, 224, 3)"
      ]
     },
     "execution_count": 33,
     "metadata": {},
     "output_type": "execute_result"
    }
   ],
   "source": [
    "x.shape"
   ]
  },
  {
   "cell_type": "code",
   "execution_count": 34,
   "id": "39dcd101",
   "metadata": {},
   "outputs": [],
   "source": [
    "x=x/255"
   ]
  },
  {
   "cell_type": "code",
   "execution_count": 35,
   "id": "c9dba0be",
   "metadata": {},
   "outputs": [
    {
     "data": {
      "text/plain": [
       "(1, 224, 224, 3)"
      ]
     },
     "execution_count": 35,
     "metadata": {},
     "output_type": "execute_result"
    }
   ],
   "source": [
    "x=np.expand_dims(x,axis=0)\n",
    "img_data=preprocess_input(x)\n",
    "img_data.shape"
   ]
  },
  {
   "cell_type": "code",
   "execution_count": 36,
   "id": "b5bd0d33",
   "metadata": {},
   "outputs": [
    {
     "data": {
      "text/plain": [
       "array([[0., 1.]], dtype=float32)"
      ]
     },
     "execution_count": 36,
     "metadata": {},
     "output_type": "execute_result"
    }
   ],
   "source": [
    "model.predict(img_data)"
   ]
  },
  {
   "cell_type": "code",
   "execution_count": 37,
   "id": "4e8286a9",
   "metadata": {},
   "outputs": [],
   "source": [
    "a=np.argmax(model.predict(img_data),axis=1)"
   ]
  },
  {
   "cell_type": "code",
   "execution_count": 38,
   "id": "674879ee",
   "metadata": {},
   "outputs": [
    {
     "name": "stdout",
     "output_type": "stream",
     "text": [
      "Uninfected\n"
     ]
    }
   ],
   "source": [
    "if(a==1):\n",
    "    print(\"Uninfected\")\n",
    "else:\n",
    "    print(\"infected\")"
   ]
  },
  {
   "cell_type": "code",
   "execution_count": null,
   "id": "9a96af48",
   "metadata": {},
   "outputs": [],
   "source": []
  }
 ],
 "metadata": {
  "kernelspec": {
   "display_name": "Python 3 (ipykernel)",
   "language": "python",
   "name": "python3"
  },
  "language_info": {
   "codemirror_mode": {
    "name": "ipython",
    "version": 3
   },
   "file_extension": ".py",
   "mimetype": "text/x-python",
   "name": "python",
   "nbconvert_exporter": "python",
   "pygments_lexer": "ipython3",
   "version": "3.9.6"
  }
 },
 "nbformat": 4,
 "nbformat_minor": 5
}
